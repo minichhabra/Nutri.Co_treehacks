{
 "cells": [
  {
   "cell_type": "code",
   "execution_count": 1,
   "metadata": {},
   "outputs": [],
   "source": [
    "import numpy as np\n",
    "import cv2 as cv\n",
    "import pytesseract\n",
    "from pytesseract import Output\n",
    "import re\n",
    "import math\n",
    "import time\n",
    "import csv\n",
    "import pandas as pd\n",
    "import os\n",
    "import urllib.request\n",
    "from flask import Flask, render_template, Response,jsonify\n",
    "app = Flask(__name__)"
   ]
  },
  {
   "cell_type": "code",
   "execution_count": 2,
   "metadata": {},
   "outputs": [],
   "source": [
    "net = cv.dnn.readNet(\"yolov3.weights\",\"yolov3.cfg\")\n",
    "classes = []\n",
    "with open(\"yolov3.txt\",\"r\") as f:\n",
    "    classes = [line.strip() for line in f.readlines()]"
   ]
  },
  {
   "cell_type": "code",
   "execution_count": 3,
   "metadata": {},
   "outputs": [],
   "source": [
    "layer_names = net.getLayerNames()\n",
    "outputlayers = [layer_names[i[0] - 1] for i in net.getUnconnectedOutLayers()]"
   ]
  },
  {
   "cell_type": "code",
   "execution_count": 4,
   "metadata": {},
   "outputs": [],
   "source": [
    "colors= np.random.uniform(0,255,size=(len(classes),3))\n",
    "l=['banana', 'apple', 'sandwich', 'orange', 'broccoli', 'carrot', 'hot dog', 'pizza', 'donut', 'cake']"
   ]
  },
  {
   "cell_type": "code",
   "execution_count": 5,
   "metadata": {},
   "outputs": [],
   "source": [
    "a=pd.read_csv('nutri.csv',index_col='name')"
   ]
  },
  {
   "cell_type": "code",
   "execution_count": 6,
   "metadata": {},
   "outputs": [],
   "source": [
    "def gen_frames():\n",
    "    cap=cv.VideoCapture(0) #0 for 1st webcam\n",
    "    font = cv.FONT_HERSHEY_PLAIN\n",
    "    starting_time= time.time()\n",
    "    while True:\n",
    "        _,frame= cap.read() # \n",
    "        #frame_id+=1\n",
    "    \n",
    "        height,width,channels = frame.shape\n",
    "        #detecting objects\n",
    "        blob = cv2.dnn.blobFromImage(frame,0.00392,(320,320),(0,0,0),True,crop=False) #reduce 416 to 320    \n",
    "\n",
    "        \n",
    "        net.setInput(blob)\n",
    "        outs = net.forward(outputlayers)\n",
    "        #print(outs[1])\n",
    "\n",
    "\n",
    "        #Showing info on screen/ get confidence score of algorithm in detecting an object in blob\n",
    "        class_ids=[]\n",
    "        confidences=[]\n",
    "        boxes=[]\n",
    "        for out in outs:\n",
    "            for detection in out:\n",
    "                scores = detection[5:]\n",
    "                class_id = np.argmax(scores)\n",
    "                confidence = scores[class_id]\n",
    "                if confidence > 0.3:\n",
    "                    #onject detected\n",
    "                    center_x= int(detection[0]*width)\n",
    "                    center_y= int(detection[1]*height)\n",
    "                    w = int(detection[2]*width)\n",
    "                    h = int(detection[3]*height)\n",
    "\n",
    "                    #cv2.circle(img,(center_x,center_y),10,(0,255,0),2)\n",
    "                    #rectangle co-ordinaters\n",
    "                    x=int(center_x - w/2)\n",
    "                    y=int(center_y - h/2)\n",
    "                    #cv2.rectangle(img,(x,y),(x+w,y+h),(0,255,0),2)\n",
    "\n",
    "                    boxes.append([x,y,w,h]) #put all rectangle areas\n",
    "                    confidences.append(float(confidence)) #how confidence was that object detected and show that percentage\n",
    "                    class_ids.append(class_id) #name of the object tha was detected\n",
    "\n",
    "        indexes = cv2.dnn.NMSBoxes(boxes,confidences,0.4,0.6)\n",
    "\n",
    "\n",
    "        for i in range(len(boxes)):\n",
    "            if i in indexes:\n",
    "                x,y,w,h = boxes[i]\n",
    "                p=math.sqrt(w**2+h**2)\n",
    "                \n",
    "                label = str(classes[class_ids[i]])\n",
    "                l=['banana', 'apple', 'sandwich', 'orange', 'broccoli', 'carrot', 'hot dog', 'pizza', 'donut', 'cake']\n",
    "                brbr=['orange']\n",
    "                if label in l:\n",
    "                    confidence= confidences[i]\n",
    "                    color = colors[class_ids[i]]\n",
    "                    cv2.rectangle(frame,(x,y),(x+w,y+h),color,2)\n",
    "                    cv2.putText(frame,label+\" \"+str(round(confidence,2)),(x,y+30),font,1,(255,255,255),2)\n",
    "                    if label in brbr:\n",
    "                        cv2.putText(frame,\"Calories (kcal) \"+str(a.loc[label,\"Calories (kcal)\"]),(x,y+100),font,1,(255,255,255),2)\n",
    "                        cv2.putText(frame,\"Total Sugar (g) \"+str(a.loc[label,\"Total Sugar (g)\"]),(x,y+150),font,1,(255,255,255),2)\n",
    "                        cv2.putText(frame,\"Protein (g) \"+str(a.loc[label,\"Protein (g)\"]),(x,y+200),font,1,(255,255,255),2)\n",
    "            \n",
    "\n",
    "        \n",
    "        ret, buffer = cv2.imencode('.jpg', frame)\n",
    "        frame = buffer.tobytes()\n",
    "        yield (b'--frame\\r\\n'\n",
    "               b'Content-Type: image/jpeg\\r\\n\\r\\n' + frame + b'\\r\\n')"
   ]
  },
  {
   "cell_type": "code",
   "execution_count": 7,
   "metadata": {},
   "outputs": [],
   "source": [
    "@app.route('/')\n",
    "def index():\n",
    "    return render_template('index.html')\n",
    "\n",
    "@app.route('/static/video_feed')\n",
    "def video_feed():\n",
    "    \"\"\"Video streaming route. Put this in the src attribute of an img tag.\"\"\"\n",
    "    return Response(gen_frames(),\n",
    "                    mimetype='multipart/x-mixed-replace; boundary=frame')\n",
    "\n",
    "@app.route('/static/video.html',methods=['GET', 'POST'])\n",
    "def index_social():\n",
    "    if request.method == 'GET':\n",
    "        return redirect(url_for('video_feed'))\n",
    "    \"\"\"Video streaming home page.\"\"\"\n",
    "    return render_template('video.html')\n",
    "\n",
    "@app.route('/static/index.html',methods=['GET', 'POST'])\n",
    "def index_home():\n",
    "       return render_template('index.html')\n",
    "    \n",
    "@app.route('/static/dosha-quiz.html',methods=['GET', 'POST'])\n",
    "def dosha_quiz():\n",
    "       return render_template('dosha-quiz.html')\n"
   ]
  },
  {
   "cell_type": "code",
   "execution_count": 8,
   "metadata": {},
   "outputs": [
    {
     "name": "stdout",
     "output_type": "stream",
     "text": [
      " * Serving Flask app \"__main__\" (lazy loading)\n",
      " * Environment: production\n",
      "   WARNING: This is a development server. Do not use it in a production deployment.\n",
      "   Use a production WSGI server instead.\n",
      " * Debug mode: off\n"
     ]
    },
    {
     "name": "stderr",
     "output_type": "stream",
     "text": [
      " * Running on http://127.0.0.1:5000/ (Press CTRL+C to quit)\n",
      "127.0.0.1 - - [18/Feb/2022 20:10:42] \"\u001b[37mGET / HTTP/1.1\u001b[0m\" 200 -\n",
      "127.0.0.1 - - [18/Feb/2022 20:10:42] \"\u001b[33mGET /about-image.jpg HTTP/1.1\u001b[0m\" 404 -\n",
      "127.0.0.1 - - [18/Feb/2022 20:10:42] \"\u001b[33mGET /image/banner-bg.jpg HTTP/1.1\u001b[0m\" 404 -\n",
      "127.0.0.1 - - [18/Feb/2022 20:19:45] \"\u001b[37mGET /static/dosha-quiz.html HTTP/1.1\u001b[0m\" 200 -\n"
     ]
    }
   ],
   "source": [
    "if __name__ == '__main__':\n",
    "    app.run()"
   ]
  },
  {
   "cell_type": "code",
   "execution_count": null,
   "metadata": {},
   "outputs": [],
   "source": []
  }
 ],
 "metadata": {
  "kernelspec": {
   "display_name": "Python 3",
   "language": "python",
   "name": "python3"
  },
  "language_info": {
   "codemirror_mode": {
    "name": "ipython",
    "version": 3
   },
   "file_extension": ".py",
   "mimetype": "text/x-python",
   "name": "python",
   "nbconvert_exporter": "python",
   "pygments_lexer": "ipython3",
   "version": "3.8.3"
  }
 },
 "nbformat": 4,
 "nbformat_minor": 4
}
