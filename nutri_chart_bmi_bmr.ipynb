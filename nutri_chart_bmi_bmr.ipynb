{
 "cells": [
  {
   "cell_type": "code",
   "execution_count": 1,
   "metadata": {},
   "outputs": [],
   "source": [
    "import numpy as np\n",
    "import cv2 as cv\n",
    "import pytesseract\n",
    "from pytesseract import Output\n",
    "import re\n",
    "import math\n",
    "import time"
   ]
  },
  {
   "cell_type": "code",
   "execution_count": 2,
   "metadata": {},
   "outputs": [],
   "source": [
    "pytesseract.pytesseract.tesseract_cmd = 'C:\\\\Program Files\\\\Tesseract-OCR\\\\tesseract.exe'"
   ]
  },
  {
   "cell_type": "code",
   "execution_count": 3,
   "metadata": {},
   "outputs": [],
   "source": [
    "from flask import Flask\n",
    "\n",
    "UPLOAD_FOLDER = 'static/uploads/'\n",
    "\n",
    "app = Flask(__name__)\n",
    "app.secret_key = \"secret key\"\n",
    "app.config['UPLOAD_FOLDER'] = UPLOAD_FOLDER\n",
    "app.config['MAX_CONTENT_LENGTH'] = 16 * 1024 * 1024"
   ]
  },
  {
   "cell_type": "code",
   "execution_count": 4,
   "metadata": {},
   "outputs": [],
   "source": [
    "cal=''\n",
    "carb=''\n",
    "protein=''\n",
    "fat=''\n",
    "text=''\n",
    "\n",
    "\n",
    "def check(filename):\n",
    "    img = cv.imread('static/uploads/'+filename)\n",
    "    c=1\n",
    "    custom_config = r'-c tessedit_char_blacklist= --psm 6'\n",
    "    text=pytesseract.image_to_string(img, config=custom_config)\n",
    "    d = pytesseract.image_to_data(img, output_type=Output.DICT)\n",
    "    n_boxes = len(d['text'])\n",
    "    for i in range(n_boxes):\n",
    "        if d['text'][i]=='Calories':\n",
    "            cal=d['text'][i+2]\n",
    "            flash(\"Number of calories: \"+cal)\n",
    "        if d['text'][i]=='Carbohydrate':\n",
    "            carb=d['text'][i+1]\n",
    "            flash(\"Amount of Carbohydrate :\"+carb)\n",
    "        if d['text'][i]=='Protein':\n",
    "            protein=d['text'][i+1]\n",
    "            flash(\"Grams of Proteins: \"+protein)\n",
    "        if d['text'][i]=='Fat':\n",
    "            if c==1:\n",
    "                c=c+1\n",
    "                fat=d['text'][i+1]\n",
    "                flash(\"Total Fat: \"+fat)\n",
    "        (x, y, w, h) = (d['left'][i], d['top'][i], d['width'][i], d['height'][i])\n",
    "        img = cv.rectangle(img, (x, y), (x + w, y + h), (0, 255, 0), 2)"
   ]
  },
  {
   "cell_type": "code",
   "execution_count": 5,
   "metadata": {},
   "outputs": [
    {
     "name": "stdout",
     "output_type": "stream",
     "text": [
      " * Serving Flask app \"__main__\" (lazy loading)\n",
      " * Environment: production\n",
      "   WARNING: This is a development server. Do not use it in a production deployment.\n",
      "   Use a production WSGI server instead.\n",
      " * Debug mode: off\n"
     ]
    },
    {
     "name": "stderr",
     "output_type": "stream",
     "text": [
      " * Running on http://127.0.0.1:3000/ (Press CTRL+C to quit)\n",
      "127.0.0.1 - - [19/Feb/2022 22:25:48] \"\u001b[37mGET / HTTP/1.1\u001b[0m\" 200 -\n",
      "127.0.0.1 - - [19/Feb/2022 22:25:48] \"\u001b[36mGET /static/style.css HTTP/1.1\u001b[0m\" 304 -\n",
      "127.0.0.1 - - [19/Feb/2022 22:25:49] \"\u001b[33mGET /favicon.ico HTTP/1.1\u001b[0m\" 404 -\n",
      "127.0.0.1 - - [19/Feb/2022 22:27:15] \"\u001b[37mPOST / HTTP/1.1\u001b[0m\" 200 -\n"
     ]
    }
   ],
   "source": [
    "import os\n",
    "#from app import app\n",
    "import urllib.request\n",
    "from flask import Flask, flash, request, redirect, url_for, render_template\n",
    "from werkzeug.utils import secure_filename\n",
    "\n",
    "ALLOWED_EXTENSIONS = set(['png', 'jpg', 'jpeg', 'gif'])\n",
    "\n",
    "def allowed_file(filename):\n",
    "\treturn '.' in filename and filename.rsplit('.', 1)[1].lower() in ALLOWED_EXTENSIONS\n",
    "\n",
    "@app.route('/static/bmibmr.html')\n",
    "def bmibmr():\n",
    "    return render_template('bmibmr.html')\n",
    "\n",
    "@app.route('/')\n",
    "def upload_form():\n",
    "\treturn render_template('nutrichart.html')\n",
    "\n",
    "@app.route('/', methods=['POST'])\n",
    "def upload_image():\n",
    "\tif 'file' not in request.files:\n",
    "\t\tflash('No file part')\n",
    "\t\treturn redirect(request.url)\n",
    "\tfile = request.files['file']\n",
    "\tif file.filename == '':\n",
    "\t\tflash('No image selected for uploading')\n",
    "\t\treturn redirect(request.url)\n",
    "\tif file and allowed_file(file.filename):\n",
    "\t\tfilename = secure_filename(file.filename)\n",
    "\t\tfile.save(os.path.join(app.config['UPLOAD_FOLDER'], filename))\n",
    "\t\tcheck(filename)\n",
    "\t\treturn render_template('nutrichart.html', filename=filename)\n",
    "\telse:\n",
    "\t\tflash('Allowed image types are -> png, jpg, jpeg, gif')\n",
    "\t\treturn redirect(request.url)\n",
    "\n",
    "@app.route('/display/<filename>')\n",
    "def display_image(filename):\n",
    "\treturn redirect(url_for('static', filename='uploads/' + filename))\n",
    "\n",
    "if __name__ == \"__main__\":\n",
    "    app.run(port=\"3000\")"
   ]
  },
  {
   "cell_type": "code",
   "execution_count": null,
   "metadata": {},
   "outputs": [],
   "source": []
  }
 ],
 "metadata": {
  "kernelspec": {
   "display_name": "Python 3",
   "language": "python",
   "name": "python3"
  },
  "language_info": {
   "codemirror_mode": {
    "name": "ipython",
    "version": 3
   },
   "file_extension": ".py",
   "mimetype": "text/x-python",
   "name": "python",
   "nbconvert_exporter": "python",
   "pygments_lexer": "ipython3",
   "version": "3.8.3"
  }
 },
 "nbformat": 4,
 "nbformat_minor": 4
}
