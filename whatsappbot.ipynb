{
 "cells": [
  {
   "cell_type": "code",
   "execution_count": 2,
   "metadata": {},
   "outputs": [
    {
     "name": "stdout",
     "output_type": "stream",
     "text": [
      " * Serving Flask app \"__main__\" (lazy loading)\n",
      " * Environment: production\n",
      "   WARNING: This is a development server. Do not use it in a production deployment.\n",
      "   Use a production WSGI server instead.\n",
      " * Debug mode: off\n"
     ]
    },
    {
     "name": "stderr",
     "output_type": "stream",
     "text": [
      " * Running on http://127.0.0.1:5000/ (Press CTRL+C to quit)\n",
      "127.0.0.1 - - [20/Feb/2022 11:26:19] \"\u001b[37mPOST /bot HTTP/1.1\u001b[0m\" 200 -\n",
      "127.0.0.1 - - [20/Feb/2022 11:26:29] \"\u001b[37mPOST /bot HTTP/1.1\u001b[0m\" 200 -\n",
      "127.0.0.1 - - [20/Feb/2022 11:26:37] \"\u001b[37mPOST /bot HTTP/1.1\u001b[0m\" 200 -\n",
      "127.0.0.1 - - [20/Feb/2022 11:26:48] \"\u001b[37mPOST /bot HTTP/1.1\u001b[0m\" 200 -\n",
      "127.0.0.1 - - [20/Feb/2022 11:27:01] \"\u001b[37mPOST /bot HTTP/1.1\u001b[0m\" 200 -\n",
      "127.0.0.1 - - [20/Feb/2022 11:28:28] \"\u001b[37mPOST /bot HTTP/1.1\u001b[0m\" 200 -\n",
      "127.0.0.1 - - [20/Feb/2022 11:28:38] \"\u001b[37mPOST /bot HTTP/1.1\u001b[0m\" 200 -\n",
      "127.0.0.1 - - [20/Feb/2022 11:28:45] \"\u001b[37mPOST /bot HTTP/1.1\u001b[0m\" 200 -\n",
      "127.0.0.1 - - [20/Feb/2022 11:28:55] \"\u001b[37mPOST /bot HTTP/1.1\u001b[0m\" 200 -\n",
      "127.0.0.1 - - [20/Feb/2022 11:29:01] \"\u001b[37mPOST /bot HTTP/1.1\u001b[0m\" 200 -\n",
      "127.0.0.1 - - [20/Feb/2022 11:29:07] \"\u001b[37mPOST /bot HTTP/1.1\u001b[0m\" 200 -\n"
     ]
    }
   ],
   "source": [
    "from flask import Flask, request, Response\n",
    "import requests\n",
    "from twilio.twiml.messaging_response import MessagingResponse\n",
    "import requests\n",
    "\n",
    "url = \"https://yummly2.p.rapidapi.com/feeds/list-similarities\"\n",
    "\n",
    "querystring = {\"limit\":\"1\",\"start\":\"0\",\"id\":\"15-Minute-Baked-Salmon-with-Lemon-9029477\",\"apiFeedType\":\"moreFrom\",\"authorId\":\"Yummly\"}\n",
    "\n",
    "headers = {\n",
    "    'x-rapidapi-host': \"host\",\n",
    "    'x-rapidapi-key': \"key\"\n",
    "    }\n",
    "\n",
    "app = Flask(__name__)\n",
    "\n",
    "\n",
    "@app.route('/bot', methods=['GET','POST'])\n",
    "def bot():\n",
    "    incoming_msg = request.values.get('Body', '').lower()\n",
    "    resp = MessagingResponse()\n",
    "    msg = resp.message()\n",
    "    responded = False\n",
    "    if 'hello' in incoming_msg:\n",
    "        quote=\"Greetings! Welcome to Nutri.Co. Stay Healthy, stay fit!\"\n",
    "        msg.body(quote)\n",
    "        responded = True\n",
    "    if 'recipe' in incoming_msg:\n",
    "        # return a quote\n",
    "        response = requests.request(\"GET\", url, headers=headers, params=querystring)\n",
    "        s=response.text\n",
    "        quote = s[4488:5207]\n",
    "        quote.replace(\"\\\\u00B0F\",\"F\")\n",
    "        msg.body(quote)\n",
    "        responded = True\n",
    "    if 'calorie' in incoming_msg:\n",
    "        # return a quote\n",
    "        quote=\"Counting calories can help you lose weight by bringing awareness to what you eat each day. This can help you identify eating patterns that you may need to modify, keeping you on track to reach your goals.\"\n",
    "        msg.body(quote)\n",
    "        responded = True\n",
    "    if 'bye' in incoming_msg:\n",
    "        # return a quote\n",
    "        quote=\"Thank You for reaching out to us. See you next time\"\n",
    "        msg.body(quote)\n",
    "        responded = True\n",
    "    if 'vata' in incoming_msg:\n",
    "        quote=\"Vata types are exceptionally creative, communicative and brimming with ideas.\\n Helpful for excess Vata\\n 1) a regular daily routine\\n 2) warming meals\\n 3) minimal raw food\\n 4) massages & baths.\"\n",
    "        msg.body(quote)\n",
    "        responded = True\n",
    "    if 'pitta' in incoming_msg:\n",
    "        quote=\"Pitta types are distinguished by being quick on the uptake and by their powerful intellect and ambition.\\n Helpful for excess Pitta\\n 1) Mental challenges\\n 2) Sports\\n 3) Regular Meditation\"\n",
    "        msg.body(quote)\n",
    "        responded=True\n",
    "    if 'kapha' in incoming_msg:\n",
    "        quote=\"People who are characterised by Kapha energy operate in a manner that is well-considered and thorough.\\n Helpful for excess Kapha\\n 1) Exercise both in physical or spiritual sense\\n 2) Active lifestyle with good social contact\"\n",
    "        msg.body(quote)\n",
    "        responded=True\n",
    "    if 'ayurveda' in incoming_msg:\n",
    "        quote=\"Ayurveda blends our modern lifestyle and health-oriented habits with the ancient wisdom of using natural substances, medicines and herbs to help us lead a healthy, happy, stress-free and disease-free life. \"\n",
    "        msg.body(quote)\n",
    "        responded=True\n",
    "    \n",
    "    if not responded:\n",
    "        msg.body('I only know about calories and recipes, sorry!')\n",
    "    return Response(str(resp),mimetype=\"application/xml\")\n",
    "\n",
    "\n",
    "if __name__ == '__main__':\n",
    "    app.run()\n"
   ]
  },
  {
   "cell_type": "code",
   "execution_count": null,
   "metadata": {},
   "outputs": [],
   "source": []
  }
 ],
 "metadata": {
  "kernelspec": {
   "display_name": "Python 3",
   "language": "python",
   "name": "python3"
  },
  "language_info": {
   "codemirror_mode": {
    "name": "ipython",
    "version": 3
   },
   "file_extension": ".py",
   "mimetype": "text/x-python",
   "name": "python",
   "nbconvert_exporter": "python",
   "pygments_lexer": "ipython3",
   "version": "3.6.9"
  }
 },
 "nbformat": 4,
 "nbformat_minor": 2
}
